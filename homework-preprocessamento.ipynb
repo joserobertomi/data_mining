{
 "cells": [
  {
   "cell_type": "markdown",
   "id": "05c0d192",
   "metadata": {},
   "source": [
    "# Tarefas: Mineração de dados "
   ]
  },
  {
   "cell_type": "markdown",
   "id": "41800dbd",
   "metadata": {},
   "source": [
    "## Pre-Processamento"
   ]
  },
  {
   "cell_type": "markdown",
   "id": "0c2fd3a7",
   "metadata": {},
   "source": [
    "1 - Normalize os dados do vetor a seguir considerando: \n",
    "\n",
    "`[67, 43, 58, 28, 74, 65, 70, 42, 57, 60]`"
   ]
  },
  {
   "cell_type": "code",
   "execution_count": 1,
   "id": "f15c0118",
   "metadata": {},
   "outputs": [],
   "source": [
    "import numpy as np\n",
    "\n",
    "X = np.array([67, 43, 58, 28, 74, 65, 70, 42, 57, 60])"
   ]
  },
  {
   "cell_type": "markdown",
   "id": "bfabf1ef",
   "metadata": {},
   "source": [
    "### A) escalonamento decimal"
   ]
  },
  {
   "cell_type": "markdown",
   "id": "a0c9bb39",
   "metadata": {},
   "source": [
    "É uma técnica de normalização onde os valores dos atributos são divididos por uma potência de 10 tal que o valor absoluto máximo esteja entre 0 e 1.\n",
    "Fórmula:\n",
    "\n",
    "$$\n",
    "x' = \\frac{x}{10^j}\n",
    "$$\n",
    "\n",
    "Onde $j$ é o menor número inteiro tal que:\n",
    "\n",
    "$$\n",
    "\\max(|x'|) < 1\n",
    "$$"
   ]
  },
  {
   "cell_type": "code",
   "execution_count": 2,
   "id": "3bacfc79",
   "metadata": {},
   "outputs": [
    {
     "name": "stdout",
     "output_type": "stream",
     "text": [
      "[0.67 0.43 0.58 0.28 0.74 0.65 0.7  0.42 0.57 0.6 ]\n"
     ]
    }
   ],
   "source": [
    "import numpy as np\n",
    "from sklearn.preprocessing import FunctionTransformer\n",
    "\n",
    "def decimal_scaling(X):\n",
    "    #X = np.array(X, dtype=np.float64)\n",
    "    j = np.ceil(np.log10(np.max(np.abs(X), axis=0))).astype(int)\n",
    "    return X / (10 ** j)\n",
    "\n",
    "scaler = FunctionTransformer(decimal_scaling)\n",
    "X_scaled = scaler.fit_transform(X)\n",
    "print(X_scaled)\n"
   ]
  },
  {
   "cell_type": "markdown",
   "id": "b7838406",
   "metadata": {},
   "source": [
    "### B) z-score"
   ]
  },
  {
   "cell_type": "markdown",
   "id": "fb2e9ed5",
   "metadata": {},
   "source": [
    "A fórmula do Z-Score é:\n",
    "\n",
    "$$\n",
    "z = \\frac{x - \\mu}{\\sigma}\n",
    "$$\n",
    "\n",
    "Onde:\n",
    "\n",
    "* $x$ é o valor original\n",
    "* $\\mu$ é a média da coluna\n",
    "* $\\sigma$ é o desvio padrão da coluna\n"
   ]
  },
  {
   "cell_type": "code",
   "execution_count": 3,
   "id": "7a8fda7e",
   "metadata": {},
   "outputs": [
    {
     "name": "stdout",
     "output_type": "stream",
     "text": [
      "Média: 9.992007221626409e-17\n",
      "Desvio padrão: 1.0\n"
     ]
    }
   ],
   "source": [
    "from sklearn.base import BaseEstimator, TransformerMixin\n",
    "import numpy as np\n",
    "\n",
    "class ZScoreScaler(BaseEstimator, TransformerMixin):\n",
    "    def fit(self, X, y=None):\n",
    "        X = np.array(X, dtype=np.float64)\n",
    "        self.mean_ = X.mean(axis=0)\n",
    "        self.std_ = X.std(axis=0)\n",
    "        return self\n",
    "\n",
    "    def transform(self, X):\n",
    "        X = np.array(X, dtype=np.float64)\n",
    "        return (X - self.mean_) / self.std_\n",
    "\n",
    "scaler = ZScoreScaler()\n",
    "X_scaled = scaler.fit_transform(X)\n",
    "\n",
    "# Verificar média ~0 e desvio padrão ~1\n",
    "print(\"Média:\", X_scaled.mean(axis=0))\n",
    "print(\"Desvio padrão:\", X_scaled.std(axis=0))"
   ]
  },
  {
   "cell_type": "markdown",
   "id": "7af9835d",
   "metadata": {},
   "source": [
    "### C) max-min"
   ]
  },
  {
   "cell_type": "markdown",
   "id": "63b32f95",
   "metadata": {},
   "source": [
    "É usado para normalizar os dados, escalando cada feature para um intervalo específico, geralmente entre 0 e 1. \n",
    "\n",
    "Ele aplica a seguinte fórmula:\n",
    "\n",
    "$$\n",
    "X_{\\text{norm}} = \\frac{X - X_{\\text{min}}}{X_{\\text{max}} - X_{\\text{min}}}\n",
    "$$\n"
   ]
  },
  {
   "cell_type": "code",
   "execution_count": 4,
   "id": "e4a6800b",
   "metadata": {},
   "outputs": [
    {
     "name": "stdout",
     "output_type": "stream",
     "text": [
      "[0.84782609 0.32608696 0.65217391 0.         1.         0.80434783\n",
      " 0.91304348 0.30434783 0.63043478 0.69565217]\n"
     ]
    }
   ],
   "source": [
    "from sklearn.preprocessing import MinMaxScaler\n",
    "import pandas as pd\n",
    "import numpy as np\n",
    "\n",
    "# Instanciar o scaler\n",
    "scaler = MinMaxScaler()\n",
    "\n",
    "# Aplicar o fit_transform\n",
    "X_scaled = scaler.fit_transform(X.reshape(-1, 1)).flatten()\n",
    "\n",
    "print(X_scaled)"
   ]
  }
 ],
 "metadata": {
  "kernelspec": {
   "display_name": ".venv",
   "language": "python",
   "name": "python3"
  },
  "language_info": {
   "codemirror_mode": {
    "name": "ipython",
    "version": 3
   },
   "file_extension": ".py",
   "mimetype": "text/x-python",
   "name": "python",
   "nbconvert_exporter": "python",
   "pygments_lexer": "ipython3",
   "version": "3.13.0"
  }
 },
 "nbformat": 4,
 "nbformat_minor": 5
}
